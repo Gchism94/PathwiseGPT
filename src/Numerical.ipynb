{
  "nbformat": 4,
  "nbformat_minor": 0,
  "metadata": {
    "colab": {
      "provenance": []
    },
    "kernelspec": {
      "name": "python3",
      "display_name": "Python 3"
    },
    "language_info": {
      "name": "python"
    }
  },
  "cells": [
    {
      "cell_type": "code",
      "execution_count": 16,
      "metadata": {
        "id": "CcrqTfox1IM3"
      },
      "outputs": [],
      "source": [
        "import os # Handles file paths and directories\n",
        "import json # Parses and loads JSON files for rules and configurations\n",
        "import unittest # Framework for writing and running unit tests"
      ]
    },
    {
      "cell_type": "code",
      "source": [
        "# To load numerical rules from the JSON file\n",
        "with open(\"analysis/data/derivedData/rules_numerical.json\", \"r\") as file:\n",
        "    numerical_data_rules = json.load(file)"
      ],
      "metadata": {
        "id": "_SY0VVCII-R6"
      },
      "execution_count": null,
      "outputs": []
    },
    {
      "cell_type": "code",
      "source": [
        "# To load configuration file for dataset size thresholds\n",
        "with open(\"analysis/data/derivedData/config.json\", \"r\") as config_file:\n",
        "    config = json.load(config_file)\n",
        "\n",
        "# Threshold values for small and large datasets\n",
        "SMALL_THRESHOLD = config[\"dataset_thresholds\"][\"small_dataset\"]\n",
        "LARGE_THRESHOLD = config[\"dataset_thresholds\"][\"large_dataset\"]"
      ],
      "metadata": {
        "id": "DefiWmU71VKM"
      },
      "execution_count": null,
      "outputs": []
    },
    {
      "cell_type": "code",
      "source": [
        "def validate_parameters(data_type, task):\n",
        "    \"\"\"\n",
        "    Validates input parameters for logic generation.\n",
        "\n",
        "    Args:\n",
        "        data_type (str): Type of data.\n",
        "        task (str): Task type.\n",
        "\n",
        "    Raises:\n",
        "        ValueError: If the task is invalid.\n",
        "    \"\"\"\n",
        "    valid_tasks = numerical_data_rules[\"tasks\"].keys()\n",
        "    if task not in valid_tasks:\n",
        "        raise ValueError(f\"Invalid task: {task}. Choose from {', '.join(valid_tasks)}.\")"
      ],
      "metadata": {
        "id": "ZZd7hXZ01VL9"
      },
      "execution_count": null,
      "outputs": []
    },
    {
      "cell_type": "code",
      "source": [
        "def validate_logic(models, condition=None, dataset_size=None):\n",
        "    \"\"\"\n",
        "    Validates if the models fit the task-specific conditions.\n",
        "\n",
        "    Args:\n",
        "        models (list): List of models retrieved from the rules.\n",
        "        condition (str, optional): Specific condition being validated.\n",
        "        dataset_size (int, optional): Dataset size for validation against thresholds.\n",
        "\n",
        "    Returns:\n",
        "        bool: True if validation passes, False otherwise.\n",
        "    \"\"\"\n",
        "    if not models:\n",
        "        print(f\"Warning: No models fit the condition '{condition}' for dataset size '{dataset_size}'.\")\n",
        "        return False\n",
        "    return True"
      ],
      "metadata": {
        "id": "M35r37T3a_En"
      },
      "execution_count": null,
      "outputs": []
    },
    {
      "cell_type": "code",
      "source": [
        "def regression_logic(data, dataset_size=None):\n",
        "    \"\"\"\n",
        "    Handles logic for regression tasks.\n",
        "\n",
        "    Args:\n",
        "        data (dict): Numerical data rules.\n",
        "        dataset_size (int, optional): Dataset size for validation.\n",
        "\n",
        "    Returns:\n",
        "        str: Logic text for regression tasks.\n",
        "    \"\"\"\n",
        "    logic_text = \"If the problem is a regression task:\\n\"\n",
        "    task_details = data[\"tasks\"][\"regression\"]\n",
        "\n",
        "    for condition, sub_conditions in task_details.items():\n",
        "        logic_text += f\"  If the condition is {condition}:\\n\"\n",
        "        if isinstance(sub_conditions, dict): # To handle nested conditions\n",
        "            for sub_condition, models in sub_conditions.items():\n",
        "                if sub_condition == \"requires_regularization\":\n",
        "                    logic_text += f\"    If {sub_condition}:\\n\"\n",
        "                    for regularization_type, reg_models in models.items():\n",
        "                        if regularization_type == \"default\":\n",
        "                            logic_text += \"      Else:\\n\"\n",
        "                        else:\n",
        "                            logic_text += f\"      If {regularization_type}:\\n\"\n",
        "                        for approach, model_list in reg_models.items():\n",
        "                            if validate_logic(model_list, regularization_type, dataset_size):\n",
        "                                logic_text += f\"        Use {approach} models: {', '.join(model_list)}\\n\"\n",
        "                else:\n",
        "                    logic_text += f\"    If {sub_condition}:\\n\"\n",
        "                    for approach, model_list in models.items():\n",
        "                        if validate_logic(model_list, sub_condition, dataset_size):\n",
        "                            logic_text += f\"      Use {approach} models: {', '.join(model_list)}\\n\"\n",
        "        else: # To handle flat conditions\n",
        "            for approach, model_list in sub_conditions.items():\n",
        "                if validate_logic(model_list, condition, dataset_size):\n",
        "                    logic_text += f\"    Use {approach} models: {', '.join(model_list)}\\n\"\n",
        "\n",
        "    return logic_text"
      ],
      "metadata": {
        "id": "ucEvZpC2bESk"
      },
      "execution_count": null,
      "outputs": []
    },
    {
      "cell_type": "code",
      "source": [
        "def clustering_logic(data):\n",
        "    \"\"\"\n",
        "    Handles logic for clustering tasks.\n",
        "\n",
        "    Args:\n",
        "        data (dict): Numerical data rules.\n",
        "\n",
        "    Returns:\n",
        "        str: Logic text for clustering tasks.\n",
        "    \"\"\"\n",
        "    logic_text = \"If the problem is a clustering task:\\n\"\n",
        "    task_details = data[\"tasks\"][\"clustering\"]\n",
        "\n",
        "    for condition, models in task_details.items():\n",
        "        if validate_logic(models, condition=condition):\n",
        "            logic_text += f\"  If the condition is {condition}:\\n\"\n",
        "            for approach, model_list in models.items():\n",
        "                logic_text += f\"    Use {approach} models: {', '.join(model_list)}\\n\"\n",
        "    return logic_text"
      ],
      "metadata": {
        "id": "XjiP2DwwbEWN"
      },
      "execution_count": null,
      "outputs": []
    },
    {
      "cell_type": "code",
      "source": [
        "def dimensionality_reduction_logic(data):\n",
        "    \"\"\"\n",
        "    Handles logic for dimensionality reduction tasks.\n",
        "\n",
        "    Args:\n",
        "        data (dict): Numerical data rules.\n",
        "\n",
        "    Returns:\n",
        "        str: Logic text for dimensionality reduction tasks.\n",
        "    \"\"\"\n",
        "    logic_text = \"If the problem is dimensionality reduction:\\n\"\n",
        "    task_details = data[\"tasks\"][\"dimensionality_reduction\"]\n",
        "\n",
        "    for condition, models in task_details.items():\n",
        "        if validate_logic(models, condition=condition):\n",
        "            logic_text += f\"  If the condition is {condition}:\\n\"\n",
        "            for approach, model_list in models.items():\n",
        "                logic_text += f\"    Use {approach} models: {', '.join(model_list)}\\n\"\n",
        "    return logic_text"
      ],
      "metadata": {
        "id": "YMsjro_ibEam"
      },
      "execution_count": null,
      "outputs": []
    },
    {
      "cell_type": "code",
      "source": [
        "def generate_numerical_logic(data_type, task, dataset_size=None):\n",
        "    \"\"\"\n",
        "    Generate ML/DL decision logic dynamically based on input parameters.\n",
        "\n",
        "    Args:\n",
        "        data_type (str): Type of data (e.g., 'Numerical').\n",
        "        task (str): Task type (e.g., 'Regression', 'Clustering', 'Dimensionality Reduction').\n",
        "        dataset_size (int, optional): Size of the dataset for validation.\n",
        "\n",
        "    Returns:\n",
        "        str: Decision logic text.\n",
        "    \"\"\"\n",
        "    validate_parameters(data_type, task) # To ensure inputs are valid\n",
        "    if task == \"regression\":\n",
        "        return regression_logic(numerical_data_rules, dataset_size)\n",
        "    elif task == \"clustering\":\n",
        "        return clustering_logic(numerical_data_rules)\n",
        "    elif task == \"dimensionality_reduction\":\n",
        "        return dimensionality_reduction_logic(numerical_data_rules)\n",
        "    else:\n",
        "        raise ValueError(f\"Task {task} not supported for data type {data_type}.\")"
      ],
      "metadata": {
        "id": "SUA92QHQbEoc"
      },
      "execution_count": null,
      "outputs": []
    },
    {
      "cell_type": "code",
      "source": [
        "print(generate_numerical_logic(data_type=\"Numerical\", task=\"regression\", dataset_size=5000))"
      ],
      "metadata": {
        "colab": {
          "base_uri": "https://localhost:8080/"
        },
        "id": "j41miumq1tRC",
        "outputId": "f05e67cc-b393-4822-bfe9-010941320bde"
      },
      "execution_count": 15,
      "outputs": [
        {
          "output_type": "stream",
          "name": "stdout",
          "text": [
            "If the problem is a regression task:\n",
            "  If the condition is linear:\n",
            "    If two_variables:\n",
            "      Use ML models: Simple Linear Regression\n",
            "    If multiple_variables:\n",
            "      Use ML models: Multiple Linear Regression\n",
            "  If the condition is non_linear:\n",
            "    If curve_fitting:\n",
            "      Use ML models: Polynomial Regression\n",
            "    If decision_boundaries:\n",
            "      Use ML models: Support Vector Regression (SVR)\n",
            "    If requires_regularization:\n",
            "      If feature_selection:\n",
            "        Use ML models: Lasso Regression\n",
            "      If high_dimensional:\n",
            "        Use ML models: Ridge Regression\n",
            "      Else:\n",
            "        Use ML models: Elastic Net Regression\n",
            "    If default:\n",
            "      Use ML models: Gradient Boosting\n",
            "      Use DL models: Deep Neural Networks (DNN)\n",
            "\n"
          ]
        }
      ]
    },
    {
      "cell_type": "code",
      "source": [
        "print(generate_numerical_logic(\"Numerical\", \"clustering\"))"
      ],
      "metadata": {
        "colab": {
          "base_uri": "https://localhost:8080/"
        },
        "id": "ABtDedy21tTd",
        "outputId": "3e49b44b-2131-41ea-ec92-671e65b4c7a6"
      },
      "execution_count": null,
      "outputs": [
        {
          "output_type": "stream",
          "name": "stdout",
          "text": [
            "If the problem is a clustering task:\n",
            "  If the condition is distinct_clusters:\n",
            "    Use ML models: K-Means Clustering\n",
            "  If the condition is hierarchical_structure:\n",
            "    Use ML models: Hierarchical Clustering\n",
            "  If the condition is arbitrary_shapes:\n",
            "    Use ML models: DBSCAN\n",
            "  If the condition is density_based:\n",
            "    Use ML models: Mean Shift Clustering\n",
            "  If the condition is default:\n",
            "    Use ML models: Agglomerative Clustering\n",
            "    Use DL models: Autoencoder-based Clustering\n",
            "\n"
          ]
        }
      ]
    },
    {
      "cell_type": "code",
      "source": [
        "print(generate_numerical_logic(\"Numerical\", \"dimensionality_reduction\"))"
      ],
      "metadata": {
        "colab": {
          "base_uri": "https://localhost:8080/"
        },
        "id": "ZYJrPE3U1tVP",
        "outputId": "2823986b-d0d1-4e5c-b491-30106887904b"
      },
      "execution_count": null,
      "outputs": [
        {
          "output_type": "stream",
          "name": "stdout",
          "text": [
            "If the problem is dimensionality reduction:\n",
            "  If the condition is maximize_variance:\n",
            "    Use ML models: Principal Component Analysis (PCA)\n",
            "  If the condition is supervised_class_separation:\n",
            "    Use ML models: Linear Discriminant Analysis (LDA)\n",
            "  If the condition is local_structure:\n",
            "    Use ML models: t-SNE\n",
            "  If the condition is local_global_structure:\n",
            "    Use ML models: UMAP\n",
            "  If the condition is default:\n",
            "    Use ML models: Independent Component Analysis (ICA)\n",
            "    Use DL models: Variational Autoencoders (VAE)\n",
            "\n"
          ]
        }
      ]
    },
    {
      "cell_type": "code",
      "source": [
        "class TestNumericalLogic(unittest.TestCase):\n",
        "    \"\"\"\n",
        "    Unit tests for the generate_numerical_logic function to validate the application of numerical rules.\n",
        "    \"\"\"\n",
        "    def test_regression_small_dataset(self):\n",
        "        \"\"\"\n",
        "        Test regression logic with a small dataset.\n",
        "\n",
        "        This test checks whether a small dataset maps to the correct model (Simple Linear Regression).\n",
        "\n",
        "        Args:\n",
        "            None (Uses hardcoded dataset_size = 500 for small dataset).\n",
        "\n",
        "        Raises:\n",
        "            AssertionError: If the expected model is not found in the result.\n",
        "\n",
        "        Returns:\n",
        "            None\n",
        "        \"\"\"\n",
        "        dataset_size = 500  # Small dataset\n",
        "        result = generate_numerical_logic(\"Numerical\", \"regression\", dataset_size)\n",
        "        self.assertIn(\"Simple Linear Regression\", result, \"Small dataset should map to Simple Linear Regression.\")\n",
        "\n",
        "    def test_clustering_default_condition(self):\n",
        "        \"\"\"\n",
        "        Test clustering logic for the default condition.\n",
        "\n",
        "        This test validates that clustering logic correctly maps to the default model (Agglomerative Clustering).\n",
        "\n",
        "        Args:\n",
        "            None (No dataset size is used for this test case).\n",
        "\n",
        "        Raises:\n",
        "            AssertionError: If the expected model is not found in the result.\n",
        "\n",
        "        Returns:\n",
        "            None\n",
        "        \"\"\"\n",
        "        result = generate_numerical_logic(\"Numerical\", \"clustering\")\n",
        "        self.assertIn(\"Agglomerative Clustering\", result, \"Default clustering should map to Agglomerative Clustering.\")\n",
        "\n",
        "    def test_invalid_task(self):\n",
        "        \"\"\"\n",
        "        Test behavior for an invalid task.\n",
        "\n",
        "        This test ensures that passing an invalid task raises a ValueError.\n",
        "\n",
        "        Args:\n",
        "            None (Uses hardcoded invalid task input).\n",
        "\n",
        "        Raises:\n",
        "            ValueError: If the task is invalid.\n",
        "\n",
        "        Returns:\n",
        "            None\n",
        "        \"\"\"\n",
        "        with self.assertRaises(ValueError):\n",
        "            generate_numerical_logic(\"Numerical\", \"invalid_task\")"
      ],
      "metadata": {
        "id": "ZxY-ZZyAdDIY"
      },
      "execution_count": 40,
      "outputs": []
    },
    {
      "cell_type": "code",
      "source": [
        "if __name__ == \"__main__\":\n",
        "    unittest.main(argv=[''], exit=False)"
      ],
      "metadata": {
        "colab": {
          "base_uri": "https://localhost:8080/"
        },
        "id": "Ph3jXnYedDKu",
        "outputId": "5e1300c8-326f-4492-b5e9-a8983cc375b2"
      },
      "execution_count": 41,
      "outputs": [
        {
          "output_type": "stream",
          "name": "stderr",
          "text": [
            "...\n",
            "----------------------------------------------------------------------\n",
            "Ran 3 tests in 0.008s\n",
            "\n",
            "OK\n"
          ]
        }
      ]
    },
    {
      "cell_type": "code",
      "source": [
        "test_scenarios = [\n",
        "    {\n",
        "        \"data_type\": \"Numerical\",\n",
        "        \"task\": \"regression\",\n",
        "        \"dataset_size\": 500,\n",
        "        \"expected_model\": \"Simple Linear Regression\"\n",
        "    },\n",
        "    {\n",
        "        \"data_type\": \"Numerical\",\n",
        "        \"task\": \"clustering\",\n",
        "        \"dataset_size\": None,  # Dataset size not required for clustering\n",
        "        \"expected_model\": \"Agglomerative Clustering\"\n",
        "    },\n",
        "    {\n",
        "        \"data_type\": \"Numerical\",\n",
        "        \"task\": \"dimensionality_reduction\",\n",
        "        \"dataset_size\": None,  # Dataset size not required for dimensionality reduction\n",
        "        \"expected_model\": \"Principal Component Analysis (PCA)\"\n",
        "    }\n",
        "]"
      ],
      "metadata": {
        "id": "iwSeMD3aepIZ"
      },
      "execution_count": 42,
      "outputs": []
    },
    {
      "cell_type": "code",
      "source": [
        "class TestNumericalLogic(unittest.TestCase):\n",
        "    \"\"\"\n",
        "    Unit tests using data-driven testing for multiple scenarios.\n",
        "\n",
        "    This test class iterates over predefined test cases (test_scenarios) to validate model mapping logic.\n",
        "    \"\"\"\n",
        "    def test_logic(self):\n",
        "        \"\"\"\n",
        "        Test logic across multiple scenarios.\n",
        "\n",
        "        This test dynamically iterates over test scenarios and validates that the expected model is\n",
        "        included in the generated logic result.\n",
        "\n",
        "        Args:\n",
        "            None (Uses predefined scenarios from test_scenarios).\n",
        "\n",
        "        Raises:\n",
        "            AssertionError: If the expected model is not found in the result.\n",
        "\n",
        "        Returns:\n",
        "            None\n",
        "        \"\"\"\n",
        "        for scenario in test_scenarios:\n",
        "            with self.subTest(scenario=scenario):\n",
        "                result = generate_numerical_logic(\n",
        "                    data_type=scenario[\"data_type\"],\n",
        "                    task=scenario[\"task\"],\n",
        "                    dataset_size=scenario[\"dataset_size\"]\n",
        "                )\n",
        "                self.assertIn(scenario[\"expected_model\"], result,\n",
        "                              f\"Failed for {scenario['task']} with dataset size {scenario['dataset_size']}\")\n",
        "\n",
        "    def test_invalid_task(self):\n",
        "        \"\"\"\n",
        "        Test behavior for an invalid task.\n",
        "\n",
        "        This test ensures that passing an invalid task raises a ValueError.\n",
        "\n",
        "        Args:\n",
        "            None (Uses hardcoded invalid task input).\n",
        "\n",
        "        Raises:\n",
        "            ValueError: If the task is invalid.\n",
        "\n",
        "        Returns:\n",
        "            None\n",
        "        \"\"\"\n",
        "        with self.assertRaises(ValueError):\n",
        "            generate_numerical_logic(\"Numerical\", \"invalid_task\")"
      ],
      "metadata": {
        "id": "fER1eRCJepKd"
      },
      "execution_count": 43,
      "outputs": []
    },
    {
      "cell_type": "code",
      "source": [
        "if __name__ == \"__main__\":\n",
        "    unittest.main(argv=[''], exit=False)"
      ],
      "metadata": {
        "colab": {
          "base_uri": "https://localhost:8080/"
        },
        "id": "E3_ZcTs1epW6",
        "outputId": "b55e643a-2e22-4bec-d6b3-19e714e64ec1"
      },
      "execution_count": 44,
      "outputs": [
        {
          "output_type": "stream",
          "name": "stderr",
          "text": [
            "..\n",
            "----------------------------------------------------------------------\n",
            "Ran 2 tests in 0.007s\n",
            "\n",
            "OK\n"
          ]
        }
      ]
    }
  ]
}