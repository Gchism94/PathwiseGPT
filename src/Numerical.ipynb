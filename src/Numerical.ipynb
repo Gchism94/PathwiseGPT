{
  "nbformat": 4,
  "nbformat_minor": 0,
  "metadata": {
    "colab": {
      "provenance": []
    },
    "kernelspec": {
      "name": "python3",
      "display_name": "Python 3"
    },
    "language_info": {
      "name": "python"
    }
  },
  "cells": [
    {
      "cell_type": "code",
      "execution_count": 1,
      "metadata": {
        "id": "CcrqTfox1IM3"
      },
      "outputs": [],
      "source": [
        "import os\n",
        "import json"
      ]
    },
    {
      "cell_type": "code",
      "source": [
        "with open(\"analysis/data/derivedData/rules_numerical.json\", \"r\") as file:\n",
        "    numerical_data_rules = json.load(file)"
      ],
      "metadata": {
        "id": "_SY0VVCII-R6"
      },
      "execution_count": null,
      "outputs": []
    },
    {
      "cell_type": "code",
      "source": [
        "with open(\"analysis/data/derivedData/config.json\", \"r\") as config_file:\n",
        "    config = json.load(config_file)\n",
        "\n",
        "SMALL_THRESHOLD = config[\"dataset_thresholds\"][\"small_dataset\"]\n",
        "LARGE_THRESHOLD = config[\"dataset_thresholds\"][\"large_dataset\"]"
      ],
      "metadata": {
        "id": "DefiWmU71VKM"
      },
      "execution_count": null,
      "outputs": []
    },
    {
      "cell_type": "code",
      "source": [
        "def validate_parameters(data_type, task):\n",
        "    \"\"\"Validates input parameters for logic generation.\"\"\"\n",
        "    valid_tasks = numerical_data_rules[\"tasks\"].keys()\n",
        "    if task not in valid_tasks:\n",
        "        raise ValueError(f\"Invalid task: {task}. Choose from {', '.join(valid_tasks)}.\")"
      ],
      "metadata": {
        "id": "ZZd7hXZ01VL9"
      },
      "execution_count": null,
      "outputs": []
    },
    {
      "cell_type": "code",
      "source": [
        "def regression_logic(data):\n",
        "    \"\"\"Handles logic for regression tasks.\"\"\"\n",
        "    logic_text = \"If the problem is a regression task:\\n\"\n",
        "    task_details = data[\"tasks\"][\"regression\"]\n",
        "\n",
        "    for condition, sub_conditions in task_details.items():\n",
        "        logic_text += f\"  If the condition is {condition}:\\n\"\n",
        "        if isinstance(sub_conditions, dict):\n",
        "            for sub_condition, models in sub_conditions.items():\n",
        "                if sub_condition == \"requires_regularization\":\n",
        "                    logic_text += f\"    If {sub_condition}:\\n\"\n",
        "                    for regularization_type, reg_models in models.items():\n",
        "                        if regularization_type == \"default\":\n",
        "                            logic_text += \"      Else:\\n\"\n",
        "                        else:\n",
        "                            logic_text += f\"      If {regularization_type}:\\n\"\n",
        "                        for approach, model_list in reg_models.items():\n",
        "                            logic_text += f\"        Use {approach} models: {', '.join(model_list)}\\n\"\n",
        "                else:\n",
        "                    logic_text += f\"    If {sub_condition}:\\n\"\n",
        "                    for approach, model_list in models.items():\n",
        "                        logic_text += f\"      Use {approach} models: {', '.join(model_list)}\\n\"\n",
        "        else:\n",
        "            for approach, model_list in sub_conditions.items():\n",
        "                logic_text += f\"    Use {approach} models: {', '.join(model_list)}\\n\"\n",
        "\n",
        "    return logic_text\n"
      ],
      "metadata": {
        "id": "ttjy9FQTPkNZ"
      },
      "execution_count": null,
      "outputs": []
    },
    {
      "cell_type": "code",
      "source": [
        "def clustering_logic(data):\n",
        "    \"\"\"Handles logic for clustering tasks.\"\"\"\n",
        "    logic_text = \"If the problem is a clustering task:\\n\"\n",
        "    task_details = data[\"tasks\"][\"clustering\"]\n",
        "\n",
        "    for condition, models in task_details.items():\n",
        "        logic_text += f\"  If the condition is {condition}:\\n\"\n",
        "        for approach, model_list in models.items():\n",
        "            logic_text += f\"    Use {approach} models: {', '.join(model_list)}\\n\"\n",
        "    return logic_text"
      ],
      "metadata": {
        "id": "-awTjBj31VTz"
      },
      "execution_count": null,
      "outputs": []
    },
    {
      "cell_type": "code",
      "source": [
        "def dimensionality_reduction_logic(data):\n",
        "    \"\"\"Handles logic for dimensionality reduction tasks.\"\"\"\n",
        "    logic_text = \"If the problem is dimensionality reduction:\\n\"\n",
        "    task_details = data[\"tasks\"][\"dimensionality_reduction\"]\n",
        "\n",
        "    for condition, models in task_details.items():\n",
        "        logic_text += f\"  If the condition is {condition}:\\n\"\n",
        "        for approach, model_list in models.items():\n",
        "            logic_text += f\"    Use {approach} models: {', '.join(model_list)}\\n\"\n",
        "    return logic_text"
      ],
      "metadata": {
        "id": "4qRB-jHt1VVz"
      },
      "execution_count": null,
      "outputs": []
    },
    {
      "cell_type": "code",
      "source": [
        "def generate_numerical_logic(data_type, task):\n",
        "    \"\"\"\n",
        "    Generate ML/DL decision logic dynamically based on input parameters.\n",
        "\n",
        "    Args:\n",
        "        data_type (str): Type of data (e.g., 'Numerical').\n",
        "        task (str): Task type (e.g., 'Regression', 'Clustering', 'Dimensionality Reduction').\n",
        "\n",
        "    Returns:\n",
        "        str: Decision logic text.\n",
        "    \"\"\"\n",
        "    validate_parameters(data_type, task)\n",
        "    if task == \"regression\":\n",
        "        return regression_logic(numerical_data_rules)\n",
        "    elif task == \"clustering\":\n",
        "        return clustering_logic(numerical_data_rules)\n",
        "    elif task == \"dimensionality_reduction\":\n",
        "        return dimensionality_reduction_logic(numerical_data_rules)\n",
        "    else:\n",
        "        raise ValueError(f\"Task {task} not supported for data type {data_type}.\")"
      ],
      "metadata": {
        "id": "V39b9LHw1tO0"
      },
      "execution_count": null,
      "outputs": []
    },
    {
      "cell_type": "code",
      "source": [
        "# Generate logic for numerical regression task\n",
        "print(generate_numerical_logic(\"Numerical\", \"regression\"))"
      ],
      "metadata": {
        "colab": {
          "base_uri": "https://localhost:8080/"
        },
        "id": "j41miumq1tRC",
        "outputId": "cbe72ab9-e27e-4a6e-da68-766e57320662"
      },
      "execution_count": null,
      "outputs": [
        {
          "output_type": "stream",
          "name": "stdout",
          "text": [
            "If the problem is a regression task:\n",
            "  If the condition is linear:\n",
            "    If two_variables:\n",
            "      Use ML models: Simple Linear Regression\n",
            "    If multiple_variables:\n",
            "      Use ML models: Multiple Linear Regression\n",
            "  If the condition is non_linear:\n",
            "    If curve_fitting:\n",
            "      Use ML models: Polynomial Regression\n",
            "    If decision_boundaries:\n",
            "      Use ML models: Support Vector Regression (SVR)\n",
            "    If requires_regularization:\n",
            "      If feature_selection:\n",
            "        Use ML models: Lasso Regression\n",
            "      If high_dimensional:\n",
            "        Use ML models: Ridge Regression\n",
            "      Else:\n",
            "        Use ML models: Elastic Net Regression\n",
            "    If default:\n",
            "      Use ML models: Gradient Boosting\n",
            "      Use DL models: Deep Neural Networks (DNN)\n",
            "\n"
          ]
        }
      ]
    },
    {
      "cell_type": "code",
      "source": [
        "# Generate logic for numerical clustering task\n",
        "print(generate_numerical_logic(\"Numerical\", \"clustering\"))"
      ],
      "metadata": {
        "colab": {
          "base_uri": "https://localhost:8080/"
        },
        "id": "ABtDedy21tTd",
        "outputId": "a9d4db3e-3dda-4c0c-bf70-e94170bad1df"
      },
      "execution_count": null,
      "outputs": [
        {
          "output_type": "stream",
          "name": "stdout",
          "text": [
            "If the problem is a clustering task:\n",
            "  If the condition is distinct_clusters:\n",
            "    Use ML models: K-Means Clustering\n",
            "  If the condition is hierarchical_structure:\n",
            "    Use ML models: Hierarchical Clustering\n",
            "  If the condition is arbitrary_shapes:\n",
            "    Use ML models: DBSCAN\n",
            "  If the condition is density_based:\n",
            "    Use ML models: Mean Shift Clustering\n",
            "  If the condition is default:\n",
            "    Use ML models: Agglomerative Clustering\n",
            "    Use DL models: Autoencoder-based Clustering\n",
            "\n"
          ]
        }
      ]
    },
    {
      "cell_type": "code",
      "source": [
        "# Generate logic for numerical dimensionality reduction task\n",
        "print(generate_numerical_logic(\"Numerical\", \"dimensionality_reduction\"))"
      ],
      "metadata": {
        "colab": {
          "base_uri": "https://localhost:8080/"
        },
        "id": "ZYJrPE3U1tVP",
        "outputId": "022b43c1-1b2a-49c8-9ab0-dca82680b89a"
      },
      "execution_count": null,
      "outputs": [
        {
          "output_type": "stream",
          "name": "stdout",
          "text": [
            "If the problem is dimensionality reduction:\n",
            "  If the condition is maximize_variance:\n",
            "    Use ML models: Principal Component Analysis (PCA)\n",
            "  If the condition is supervised_class_separation:\n",
            "    Use ML models: Linear Discriminant Analysis (LDA)\n",
            "  If the condition is local_structure:\n",
            "    Use ML models: t-SNE\n",
            "  If the condition is local_global_structure:\n",
            "    Use ML models: UMAP\n",
            "  If the condition is default:\n",
            "    Use ML models: Independent Component Analysis (ICA)\n",
            "    Use DL models: Variational Autoencoders (VAE)\n",
            "\n"
          ]
        }
      ]
    }
  ]
}